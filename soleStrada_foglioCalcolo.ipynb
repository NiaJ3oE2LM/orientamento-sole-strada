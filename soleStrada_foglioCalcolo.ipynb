{
 "cells": [
  {
   "cell_type": "markdown",
   "id": "fa44f763-07ac-4fdf-90b3-265afd41a07a",
   "metadata": {},
   "source": [
    "# Orientamento Sole-strada\n",
    "\n",
    "dipendenze"
   ]
  },
  {
   "cell_type": "code",
   "execution_count": null,
   "id": "a6f50f61-a5ae-4961-bf43-a4024cc7130d",
   "metadata": {},
   "outputs": [],
   "source": []
  },
  {
   "cell_type": "markdown",
   "id": "e1f83b5f-2f3d-4fc8-9601-b802d81eeb9f",
   "metadata": {},
   "source": [
    "## 1. Dati iniziali"
   ]
  },
  {
   "cell_type": "code",
   "execution_count": null,
   "id": "bc26ae0c-9851-4cf5-a10f-7b73cdc142aa",
   "metadata": {},
   "outputs": [],
   "source": []
  },
  {
   "cell_type": "markdown",
   "id": "21cc2655-ed4b-4295-9d44-78e1cd196c77",
   "metadata": {},
   "source": [
    "## 2.1 Calcolo tratti di strada ottimale"
   ]
  },
  {
   "cell_type": "code",
   "execution_count": null,
   "id": "2a0a59b8-ab72-49bc-868c-5eb09b3e4f76",
   "metadata": {},
   "outputs": [],
   "source": []
  },
  {
   "cell_type": "markdown",
   "id": "b45fc7b4-fc7c-4184-93dc-0afb26cb48fd",
   "metadata": {},
   "source": [
    "## 2.2 Stima angolo di altezza per i tratti ottimali "
   ]
  },
  {
   "cell_type": "code",
   "execution_count": null,
   "id": "283ea053-d9bc-46dd-ab6a-c7729926e438",
   "metadata": {},
   "outputs": [],
   "source": []
  },
  {
   "cell_type": "markdown",
   "id": "f70d3d4f-b0cb-43a1-b7a1-616a61dcd3ab",
   "metadata": {},
   "source": [
    "## 3. Visualizzazione delle soluzioni"
   ]
  },
  {
   "cell_type": "code",
   "execution_count": null,
   "id": "31de4277-0453-431c-9c87-8926d6fe8505",
   "metadata": {},
   "outputs": [],
   "source": []
  },
  {
   "cell_type": "markdown",
   "id": "935ec266-da89-419b-83fd-bcd4b3e5c089",
   "metadata": {},
   "source": [
    "## 4. Generazione resoconto"
   ]
  },
  {
   "cell_type": "code",
   "execution_count": null,
   "id": "0e719ec1-a450-48d1-a6c2-dcab26010042",
   "metadata": {},
   "outputs": [],
   "source": []
  }
 ],
 "metadata": {
  "kernelspec": {
   "display_name": "Python 3 (ipykernel)",
   "language": "python",
   "name": "python3"
  },
  "language_info": {
   "codemirror_mode": {
    "name": "ipython",
    "version": 3
   },
   "file_extension": ".py",
   "mimetype": "text/x-python",
   "name": "python",
   "nbconvert_exporter": "python",
   "pygments_lexer": "ipython3",
   "version": "3.11.3"
  }
 },
 "nbformat": 4,
 "nbformat_minor": 5
}
